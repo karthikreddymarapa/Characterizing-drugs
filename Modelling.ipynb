{
 "cells": [
  {
   "cell_type": "code",
   "execution_count": null,
   "id": "ce85bb48",
   "metadata": {},
   "outputs": [],
   "source": [
    "import pandas as pd\n",
    "df=pd.read_csv('main_data.csv')"
   ]
  },
  {
   "cell_type": "code",
   "execution_count": null,
   "id": "057ad581",
   "metadata": {},
   "outputs": [],
   "source": [
    "df"
   ]
  },
  {
   "cell_type": "code",
   "execution_count": null,
   "id": "ade7d79a",
   "metadata": {},
   "outputs": [],
   "source": [
    "import pandas as pd\n",
    "import matplotlib.pyplot as plt\n",
    "from matplotlib import pyplot\n",
    "\n",
    "import numpy as np\n",
    "from numpy import nan\n",
    "from numpy import mean\n",
    "from numpy import std\n",
    "from sklearn import tree\n",
    "import xgboost as xgb\n",
    "# importing models\n",
    "from sklearn.tree import DecisionTreeClassifier # Import Decision Tree Classifier\n",
    "from sklearn.ensemble import RandomForestClassifier\n",
    "from xgboost import XGBClassifier\n",
    "from sklearn.neighbors import KNeighborsClassifier\n",
    "from sklearn.linear_model import LogisticRegression\n",
    "\n",
    "from sklearn.model_selection import train_test_split # Import train_test_split function\n",
    "\n",
    "from sklearn import metrics #Import scikit-learn metrics module for accuracy calculation\n",
    "\n",
    "from sklearn.metrics import f1_score\n",
    "from sklearn.model_selection import cross_val_score\n",
    "from sklearn.metrics import confusion_matrix\n",
    "from sklearn.metrics import ConfusionMatrixDisplay\n",
    "\n",
    "import seaborn as sns\n",
    "# import warnings filter\n",
    "from warnings import simplefilter\n",
    "# ignore all future warnings\n",
    "simplefilter(action='ignore', category=FutureWarning)\n",
    "\n"
   ]
  },
  {
   "cell_type": "code",
   "execution_count": null,
   "id": "3abf7740",
   "metadata": {},
   "outputs": [],
   "source": [
    "df.loc[df['similarity']<0.270,'synergistic'] = 0 #antagonistic\n",
    "df.loc[df['similarity']>=0.270,'synergistic'] = 1 #synergistic"
   ]
  },
  {
   "cell_type": "code",
   "execution_count": null,
   "id": "39bf4667",
   "metadata": {},
   "outputs": [],
   "source": [
    "df"
   ]
  },
  {
   "cell_type": "code",
   "execution_count": null,
   "id": "7ba6d417",
   "metadata": {},
   "outputs": [],
   "source": [
    "plt.figure(figsize=(3, 3))\n",
    "\n",
    "sns.countplot(x='synergistic', data=df, edgecolor='black')\n",
    "\n",
    "plt.xlabel('Synergistic')\n",
    "plt.ylabel('Count(100)')\n",
    "\n",
    "# plt.savefig('synergistic counts.png')"
   ]
  },
  {
   "cell_type": "code",
   "execution_count": null,
   "id": "918ffb5d",
   "metadata": {},
   "outputs": [],
   "source": [
    "#Declaration of features and splitting the data into train and test\n",
    "features = ['drug_row','drug_col','cell_line_name','ic50_row','ic50_col','MW_x', 'LogP_x', 'NumHDonors_x','NumHAcceptors_x', 'MW_y', 'LogP_y','NumHDonors_y', 'NumHAcceptors_y']\n",
    "target = ['synergistic']\n",
    "#print(len(features))\n",
    "x = df[features]\n",
    "y = df[target]\n",
    "X_train, X_test, y_train, y_test = train_test_split(x, y, test_size=0.33, random_state=10)\n",
    "X_train"
   ]
  },
  {
   "cell_type": "code",
   "execution_count": null,
   "id": "95a17663",
   "metadata": {},
   "outputs": [],
   "source": [
    "from sklearn.neighbors import KNeighborsClassifier\n",
    "\n",
    "knn=KNeighborsClassifier()\n",
    "\n",
    "knn.fit(X_train,y_train.values.ravel())\n",
    "\n",
    "y_pred=knn.predict(X_test)\n",
    "\n",
    "acc= metrics.accuracy_score(y_test, y_pred)\n",
    "f1= f1_score(y_test, y_pred)\n",
    "\n",
    "print(\"Accuracy:\",acc)\n",
    "print(\"F1 Score:\",f1)\n",
    "      \n",
    "# Cross validation\n",
    "scores_kn = cross_val_score(knn, x, y.values.ravel(), scoring='f1_macro')\n",
    "scores_kn\n",
    "\n",
    "print('Cross val Accuracy: %.3f (%.3f)' % (mean(scores_kn), std(scores_kn)))\n",
    "\n",
    "# Visual representation\n",
    "\n",
    "cm_kn = confusion_matrix(y_test, y_pred)\n",
    "\n",
    "cm_kn_display = ConfusionMatrixDisplay(cm_kn).plot()"
   ]
  },
  {
   "cell_type": "code",
   "execution_count": null,
   "id": "1caddf7d",
   "metadata": {},
   "outputs": [],
   "source": [
    "clf = XGBClassifier(max_depth= 15, min_child_weight= 3, scale_pos_weight= 6, use_label_encoder=None,eval_metric = 'error')\n",
    "\n",
    "\n",
    "clf.fit(X_train, y_train.values.ravel())\n",
    "\n",
    "y_pred = clf.predict(X_test)\n",
    "# Calculating Accuracy and f1 score\n",
    "print(\"Accuracy:\",metrics.accuracy_score(y_test, y_pred))\n",
    "print(\"F1 Score:\",f1_score(y_test, y_pred))\n",
    "# Cross validation\n",
    "scores = cross_val_score(clf, x, y.values.ravel(), scoring='f1_macro')\n",
    "print('Cross val Accuracy: %.3f (%.3f)' % (mean(scores), std(scores)))\n",
    "# Defining the confusion matrix\n",
    "cf_matrix = confusion_matrix(y_test, y_pred)\n",
    "# Visual representation\n",
    "cm_xgb = confusion_matrix(y_test, y_pred)\n",
    "fig = ConfusionMatrixDisplay(cm_xgb).plot()\n"
   ]
  },
  {
   "cell_type": "code",
   "execution_count": null,
   "id": "5cedb1c2",
   "metadata": {},
   "outputs": [],
   "source": [
    "#X_train, X_test, y_train, y_test = train_test_split(x, y, test_size=0.45, random_state=9)\n",
    "rf = RandomForestClassifier(n_estimators=100,random_state=7)\n",
    "\n",
    "rf.fit(X_train, y_train.values.ravel())\n",
    "\n",
    "y_pred_rf = rf.predict(X_test)\n",
    "\n",
    "\n",
    "y_pred_rf\n",
    "\n",
    "# Calculating Accuracy and f1 score\n",
    "print(\"Accuracy:\",metrics.accuracy_score(y_test, y_pred_rf))\n",
    "print(\"F1 Score:\",f1_score(y_test, y_pred_rf))\n",
    "\n",
    "# Cross validation\n",
    "scores_rf = cross_val_score(rf, x, y.values.ravel(), scoring='f1_macro')\n",
    "scores_rf\n",
    "\n",
    "print('Cross val Accuracy: %.3f (%.3f)' % (mean(scores_rf), std(scores_rf)))\n",
    "\n",
    "# Visual representation\n",
    "\n",
    "cm_rf = confusion_matrix(y_test, y_pred_rf)\n",
    "\n",
    "cm_rf_display = ConfusionMatrixDisplay(cm_rf).plot()\n"
   ]
  },
  {
   "cell_type": "code",
   "execution_count": null,
   "id": "37543241",
   "metadata": {},
   "outputs": [],
   "source": [
    "clf_dt = DecisionTreeClassifier(random_state=7)\n",
    "#X_train, X_test, y_train, y_test = train_test_split(x, y, test_size=0.33, random_state=10)\n",
    "clf_dt.fit(X_train, y_train.values.ravel())\n",
    "\n",
    "y_pred_dt = clf_dt.predict(X_test)\n",
    "\n",
    "y_pred_dt\n",
    "\n",
    "# Calculating Accuracy and f1 score\n",
    "print(\"Accuracy:\",metrics.accuracy_score(y_test, y_pred_dt))\n",
    "print(\"F1 Score:\",f1_score(y_test, y_pred_dt))\n",
    "\n",
    "# Cross validation\n",
    "scores_dt = cross_val_score(clf_dt, x, y.values.ravel(), scoring='f1_macro')\n",
    "scores_dt\n",
    "\n",
    "print('Cross val Accuracy: %.3f (%.3f)' % (mean(scores_dt), std(scores_dt)))\n",
    "\n",
    "# Visual representation\n",
    "\n",
    "cm_dt = confusion_matrix(y_test, y_pred_dt)\n",
    "\n",
    "cm_dt_display = ConfusionMatrixDisplay(cm_dt).plot()"
   ]
  },
  {
   "cell_type": "code",
   "execution_count": null,
   "id": "85077759",
   "metadata": {},
   "outputs": [],
   "source": []
  },
  {
   "cell_type": "code",
   "execution_count": null,
   "id": "0f39d705",
   "metadata": {},
   "outputs": [],
   "source": []
  }
 ],
 "metadata": {
  "kernelspec": {
   "display_name": "Python 3 (ipykernel)",
   "language": "python",
   "name": "python3"
  },
  "language_info": {
   "codemirror_mode": {
    "name": "ipython",
    "version": 3
   },
   "file_extension": ".py",
   "mimetype": "text/x-python",
   "name": "python",
   "nbconvert_exporter": "python",
   "pygments_lexer": "ipython3",
   "version": "3.9.13"
  }
 },
 "nbformat": 4,
 "nbformat_minor": 5
}
