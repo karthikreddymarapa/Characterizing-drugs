{
 "cells": [
  {
   "cell_type": "code",
   "execution_count": null,
   "id": "f1097524",
   "metadata": {},
   "outputs": [],
   "source": [
    "import pandas as pd\n",
    "import numpy as np\n",
    "import warnings\n",
    "warnings.filterwarnings(\"ignore\", category=np.VisibleDeprecationWarning) \n",
    "\n",
    "# Importing rdkit to extract chemical features of the drugs\n",
    "from rdkit import Chem\n",
    "from rdkit.Chem import Descriptors, Lipinski\n"
   ]
  },
  {
   "cell_type": "code",
   "execution_count": null,
   "id": "e3598add",
   "metadata": {
    "scrolled": true
   },
   "outputs": [],
   "source": [
    "sml = pd.read_csv('smiles.csv')\n",
    "sml.head()"
   ]
  },
  {
   "cell_type": "code",
   "execution_count": null,
   "id": "0559dcb3",
   "metadata": {},
   "outputs": [],
   "source": [
    "NCAT=pd.read_csv('NCAT.csv')\n",
    "NCAT.head()"
   ]
  },
  {
   "cell_type": "code",
   "execution_count": null,
   "id": "2fca9527",
   "metadata": {},
   "outputs": [],
   "source": [
    "NCAT.columns"
   ]
  },
  {
   "cell_type": "code",
   "execution_count": null,
   "id": "ea049e02",
   "metadata": {},
   "outputs": [],
   "source": [
    "NCAT.drop('block_id',inplace=True,axis=1)\n",
    "NCAT.drop_duplicates(inplace=True)"
   ]
  },
  {
   "cell_type": "code",
   "execution_count": null,
   "id": "a27f1a56",
   "metadata": {},
   "outputs": [],
   "source": [
    "#defining and calling lipinski function to extract the molecular feautures of the smiles dataset\n",
    "def lipinski(sml, verbose=False):\n",
    "\n",
    "    mdata= []\n",
    "    for elem in sml:\n",
    "        mol=Chem.MolFromSmiles(elem) \n",
    "        mdata.append(mol)\n",
    "       \n",
    "    finalData= np.arange(1,1)\n",
    "    i=0  \n",
    "    for mol in mdata:        \n",
    "        MolWt = Descriptors.MolWt(mol)\n",
    "        MolLogP = Descriptors.MolLogP(mol)\n",
    "        MolFinger=Chem.RDKFingerprint(mol)\n",
    "        NumHDonors = Lipinski.NumHDonors(mol)\n",
    "        NumHAcceptors = Lipinski.NumHAcceptors(mol)\n",
    "           \n",
    "        row = np.array([MolWt,\n",
    "                        MolLogP,\n",
    "                        MolFinger,\n",
    "                        NumHDonors,\n",
    "                        NumHAcceptors])   \n",
    "    \n",
    "        if(i==0):\n",
    "            finalData=row\n",
    "        else:\n",
    "            finalData=np.vstack([finalData, row])\n",
    "        i=i+1      \n",
    "    \n",
    "    columnNames=[\"MW\",\"LogP\",\"MolFinger\",\"NumHDonors\",\"NumHAcceptors\"]   \n",
    "    descriptors = pd.DataFrame(data=finalData,columns=columnNames)\n",
    "    \n",
    "    return descriptors\n",
    "\n",
    "df_lipinski = lipinski(sml.smiles) # storing features in a dataframe\n",
    "\n",
    "df_lipinski.head(2)"
   ]
  },
  {
   "cell_type": "code",
   "execution_count": null,
   "id": "46107a53",
   "metadata": {},
   "outputs": [],
   "source": [
    "#Combining individual drugs and their molecular features\n",
    "sml1 = pd.concat([sml, df_lipinski], axis=1) \n",
    "sml1"
   ]
  },
  {
   "cell_type": "code",
   "execution_count": null,
   "id": "7259d81a",
   "metadata": {},
   "outputs": [],
   "source": [
    "sml1.to_csv('smiles_with_mol.csv',index=False) # saving the output in a csv file for later use\n",
    "\n",
    "sml1 = pd.read_csv('smiles_with_mol.csv')"
   ]
  },
  {
   "cell_type": "code",
   "execution_count": null,
   "id": "4b6855cb",
   "metadata": {},
   "outputs": [],
   "source": [
    "#Calculating similarity scores based on the fingerprints extracted for each molecule\n",
    "from rdkit import DataStructs\n",
    "similarity=[]\n",
    "for i in range(0,len(sml1.drug_name)):\n",
    "    for j in range(0,len(sml1.drug_name)):\n",
    "        if i==j:\n",
    "            continue\n",
    "        x1= Chem.MolFromSmiles(sml1.smiles[i])\n",
    "        y1= Chem.MolFromSmiles(sml1.smiles[j])\n",
    "    #print(df_final5.smiles_row[i],df_final5.smiles_col[i])\n",
    "        x=Chem.RDKFingerprint(x1)\n",
    "        y=Chem.RDKFingerprint(y1)\n",
    "        #print(x,y)\n",
    "        similarity.append(round(DataStructs.FingerprintSimilarity(x,y),3))\n",
    "print(similarity)"
   ]
  },
  {
   "cell_type": "code",
   "execution_count": null,
   "id": "89c0d701",
   "metadata": {},
   "outputs": [],
   "source": [
    "#Creating a  matrix containing all drug combinations \n",
    "Matrix1=[]\n",
    "s1=sml1.values.tolist()\n",
    "for i in range(0,len(sml1.drug_name)):\n",
    "    for j in range(0,len(sml1.drug_name)):\n",
    "        if (i==j):\n",
    "            continue\n",
    "        Matrix1.append([sml1.drug_name[i],sml1.drug_name[j]])\n",
    "print(Matrix1)"
   ]
  },
  {
   "cell_type": "code",
   "execution_count": null,
   "id": "26d9f509",
   "metadata": {},
   "outputs": [],
   "source": [
    "df_intial=pd.DataFrame(Matrix1,columns=['drug_row','drug_col'])\n",
    "Matrix1"
   ]
  },
  {
   "cell_type": "code",
   "execution_count": null,
   "id": "3e720ffa",
   "metadata": {},
   "outputs": [],
   "source": [
    "df_intial.drop_duplicates(inplace=True)"
   ]
  },
  {
   "cell_type": "code",
   "execution_count": null,
   "id": "71862dd9",
   "metadata": {},
   "outputs": [],
   "source": [
    "#Combining all the feautures of drug1 to final dataset\n",
    "df_intial1 =  pd.merge(df_intial , sml1 ,how=\"left\",left_on=['drug_row'],right_on=['drug_name'])"
   ]
  },
  {
   "cell_type": "code",
   "execution_count": null,
   "id": "4054a6f6",
   "metadata": {},
   "outputs": [],
   "source": [
    "#Combining all the feautures of drug2 to final dataset\n",
    "df_intial2 =  pd.merge(df_intial1 , sml1 ,how=\"left\",left_on=['drug_col'],right_on=['drug_name'])"
   ]
  },
  {
   "cell_type": "code",
   "execution_count": null,
   "id": "64025999",
   "metadata": {},
   "outputs": [],
   "source": [
    "fingerprint=pd.DataFrame(similarity,columns=['similarity'])\n",
    "\n",
    "df_final=pd.concat([df_intial2,fingerprint], axis=1)"
   ]
  },
  {
   "cell_type": "code",
   "execution_count": null,
   "id": "0f4760e8",
   "metadata": {},
   "outputs": [],
   "source": [
    "labels = ['drug_row','drug_col']"
   ]
  },
  {
   "cell_type": "code",
   "execution_count": null,
   "id": "0cccb823",
   "metadata": {},
   "outputs": [],
   "source": [
    "df_fin =  pd.merge(NCAT , df_final ,how=\"left\",left_on=['drug_row','drug_col'],right_on=['drug_row','drug_col'])"
   ]
  },
  {
   "cell_type": "code",
   "execution_count": null,
   "id": "977b5995",
   "metadata": {},
   "outputs": [],
   "source": [
    "df_fin.dropna(inplace=True)"
   ]
  },
  {
   "cell_type": "code",
   "execution_count": null,
   "id": "ef21c0b4",
   "metadata": {},
   "outputs": [],
   "source": [
    "df_fin.columns"
   ]
  },
  {
   "cell_type": "code",
   "execution_count": null,
   "id": "eeeb244e",
   "metadata": {},
   "outputs": [],
   "source": [
    "columns_to_drop = ['tissue_name','study_name','conc_row_unit', 'conc_col_unit','drug_row_target_name', 'drug_col_target_name','drug_name_x',\n",
    "                  'drug_name_y','smiles_x','smiles_y','synergy_zip','synergy_hsa', 'synergy_bliss', 'ri_row',\n",
    "       'ri_col', 'css_row', 'css_col', 'css_ri', 'S_sum', 'S_mean', 'S_max']\n",
    "\n",
    "df_fin = df_fin.drop(labels=columns_to_drop, axis=1)\n",
    "\n",
    "df_fin.head(5)\n"
   ]
  },
  {
   "cell_type": "code",
   "execution_count": null,
   "id": "a2d6271e",
   "metadata": {},
   "outputs": [],
   "source": [
    "#Applying label encoding to drugs to convert into strings\n",
    "from sklearn.preprocessing import LabelEncoder\n",
    "from sklearn.preprocessing import LabelEncoder\n",
    "df_fin[['drug_row','drug_col','cell_line_name']] = df_fin[['drug_row','drug_col','cell_line_name']].apply(LabelEncoder().fit_transform)"
   ]
  },
  {
   "cell_type": "code",
   "execution_count": null,
   "id": "8ec159b6",
   "metadata": {},
   "outputs": [],
   "source": [
    "df_fin.to_csv('main_data.csv', index=False)"
   ]
  },
  {
   "cell_type": "code",
   "execution_count": null,
   "id": "f7840db3",
   "metadata": {},
   "outputs": [],
   "source": [
    "df_fin.head(2)"
   ]
  },
  {
   "cell_type": "code",
   "execution_count": null,
   "id": "40dd05ff",
   "metadata": {},
   "outputs": [],
   "source": []
  }
 ],
 "metadata": {
  "kernelspec": {
   "display_name": "Python 3 (ipykernel)",
   "language": "python",
   "name": "python3"
  },
  "language_info": {
   "codemirror_mode": {
    "name": "ipython",
    "version": 3
   },
   "file_extension": ".py",
   "mimetype": "text/x-python",
   "name": "python",
   "nbconvert_exporter": "python",
   "pygments_lexer": "ipython3",
   "version": "3.9.13"
  }
 },
 "nbformat": 4,
 "nbformat_minor": 5
}
